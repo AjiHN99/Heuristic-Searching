{
  "nbformat": 4,
  "nbformat_minor": 0,
  "metadata": {
    "colab": {
      "provenance": []
    },
    "kernelspec": {
      "name": "python3",
      "display_name": "Python 3"
    },
    "language_info": {
      "name": "python"
    }
  },
  "cells": [
    {
      "cell_type": "markdown",
      "source": [
        "Breadth First Search (BFS)"
      ],
      "metadata": {
        "id": "Q-zrOYFjA-bJ"
      }
    },
    {
      "cell_type": "code",
      "execution_count": null,
      "metadata": {
        "colab": {
          "base_uri": "https://localhost:8080/"
        },
        "id": "1IXZ16qXcUhU",
        "outputId": "9ce718de-a613-46f7-cf7a-930ad4d798b8"
      },
      "outputs": [
        {
          "output_type": "stream",
          "name": "stdout",
          "text": [
            "BFS: ['A', 'B', 'C', 'D', 'E', 'F', 'G']\n"
          ]
        }
      ],
      "source": [
        "def bfs (graph, source):\n",
        "  visited = set() # to keep track of alredy visited nodes\n",
        "  bfs_traversal = list() # the BFS traversal result\n",
        "  queue = list() #queue\n",
        "  # push the root node to the queue and mark it as as visited\n",
        "  queue.append(source) \n",
        "  visited.add(source) \n",
        "\n",
        "\n",
        "  while queue:\n",
        "\n",
        "    current_node = queue.pop(0)\n",
        "    bfs_traversal.append(current_node)\n",
        "    for neighbour_node in graph[current_node]:\n",
        "      if neighbour_node not in visited:\n",
        "        visited.add(neighbour_node)\n",
        "        queue.append(neighbour_node)\n",
        "  return bfs_traversal\n",
        "\n",
        "def main():\n",
        "  graph = {\n",
        "      'A': ['B','C'],\n",
        "      'B': ['A','D','E'],\n",
        "      'C': ['A','F','G'],\n",
        "      'D': ['B'],\n",
        "      'E': ['B'],\n",
        "      'F': ['C'],\n",
        "      'G': ['C']\n",
        "  }\n",
        "  bfs_traversal = bfs(graph, 'A')\n",
        "  print(f\"BFS: {bfs_traversal}\")\n",
        "\n",
        "if __name__=='__main__':\n",
        "  main()"
      ]
    },
    {
      "cell_type": "markdown",
      "source": [
        "Depth First Search(DFS)"
      ],
      "metadata": {
        "id": "KjXQRZjABeG9"
      }
    },
    {
      "cell_type": "code",
      "source": [
        "def dfs(graph, source, visited, dfs_traversal):\n",
        "    if source not in visited:\n",
        "        dfs_traversal.append(source)\n",
        "        visited.add(source) \n",
        "\n",
        "        for neighbour_node in graph[source]:\n",
        "            dfs(graph, neighbour_node, visited, dfs_traversal)\n",
        "    return dfs_traversal"
      ],
      "metadata": {
        "id": "s2GTZbbxpgDX"
      },
      "execution_count": null,
      "outputs": []
    },
    {
      "cell_type": "code",
      "source": [
        "def main():\n",
        "    visited = set()\n",
        "    dfs_traversal = list()\n",
        "    graph = {\n",
        "          'A': ['B','C'],\n",
        "          'B': ['D','E'],\n",
        "          'C': ['F','G'],\n",
        "          'D': [],\n",
        "          'E': [],\n",
        "          'F': [],\n",
        "          'G': []\n",
        "    }\n",
        "    \n",
        "    print(f\"DFS: {dfs(graph, 'A',visited, dfs_traversal)}\")\n",
        "if __name__==\"__main__\":\n",
        "  main()"
      ],
      "metadata": {
        "colab": {
          "base_uri": "https://localhost:8080/"
        },
        "id": "8kI8x9Qth157",
        "outputId": "d35e686a-71be-4378-e69b-8626212f92c8"
      },
      "execution_count": null,
      "outputs": [
        {
          "output_type": "stream",
          "name": "stdout",
          "text": [
            "DFS: ['A', 'B', 'D', 'E', 'C', 'F', 'G']\n"
          ]
        }
      ]
    },
    {
      "cell_type": "markdown",
      "source": [
        "Uniform Cost Search (UCS)"
      ],
      "metadata": {
        "id": "4z3CGyWjBq6F"
      }
    },
    {
      "cell_type": "code",
      "source": [
        "def  uniform_cost_search(goal, start):\n",
        "     \n",
        "    # minimum cost upto\n",
        "    # goal state from starting\n",
        "    global graph,cost\n",
        "    answer = []\n",
        " \n",
        "    # create a priority queue\n",
        "    queue = []\n",
        " \n",
        "    # set the answer vector to max value\n",
        "    for i in range(len(goal)):\n",
        "        answer.append(10**8)\n",
        " \n",
        "    # insert the starting index\n",
        "    queue.append([0, start])\n",
        " \n",
        "    # map to store visited node\n",
        "    visited = {}\n",
        " \n",
        "    # count\n",
        "    count = 0\n",
        " \n",
        "    # while the queue is not empty\n",
        "    while (len(queue) > 0):\n",
        " \n",
        "        # get the top element of the\n",
        "        queue = sorted(queue)\n",
        "        p = queue[-1]\n",
        " \n",
        "        # pop the element\n",
        "        del queue[-1]\n",
        " \n",
        "        # get the original value\n",
        "        p[0] *= -1\n",
        " \n",
        "        # check if the element is part of\n",
        "        # the goal list\n",
        "        if (p[1] in goal):\n",
        " \n",
        "            # get the position\n",
        "            index = goal.index(p[1])\n",
        " \n",
        "            # if a new goal is reached\n",
        "            if (answer[index] == 10**8):\n",
        "                count += 1\n",
        " \n",
        "            # if the cost is less\n",
        "            if (answer[index] > p[0]):\n",
        "                answer[index] = p[0]\n",
        " \n",
        "            # pop the element\n",
        "            del queue[-1]\n",
        " \n",
        "            queue = sorted(queue)\n",
        "            if (count == len(goal)):\n",
        "                return answer\n",
        " \n",
        "        # check for the non visited nodes\n",
        "        # which are adjacent to present node\n",
        "        if (p[1] not in visited):\n",
        "            for i in range(len(graph[p[1]])):\n",
        " \n",
        "                # value is multiplied by -1 so that\n",
        "                # least priority is at the top\n",
        "                queue.append( [(p[0] + cost[(p[1], graph[p[1]][i])])* -1, graph[p[1]][i]])\n",
        " \n",
        "        # mark as visited\n",
        "        visited[p[1]] = 1\n",
        " \n",
        "    return answer\n",
        " \n",
        "# main function\n",
        "if __name__ == '__main__':\n",
        "     \n",
        "    # create the graph\n",
        "    graph,cost = [[] for i in range(8)],{}\n",
        " \n",
        "    # add edge\n",
        "    graph[0].append(1)\n",
        "    graph[0].append(3)\n",
        "    graph[3].append(1)\n",
        "    graph[3].append(6)\n",
        "    graph[3].append(4)\n",
        "    graph[1].append(6)\n",
        "    graph[4].append(2)\n",
        "    graph[4].append(5)\n",
        "    graph[2].append(1)\n",
        "    graph[5].append(2)\n",
        "    graph[5].append(6)\n",
        "    graph[6].append(4)\n",
        " \n",
        "    # add the cost\n",
        "    cost[(0, 1)] = 2\n",
        "    cost[(0, 3)] = 5\n",
        "    cost[(1, 6)] = 1\n",
        "    cost[(3, 1)] = 5\n",
        "    cost[(3, 6)] = 6\n",
        "    cost[(3, 4)] = 2\n",
        "    cost[(2, 1)] = 4\n",
        "    cost[(4, 2)] = 4\n",
        "    cost[(4, 5)] = 3\n",
        "    cost[(5, 2)] = 6\n",
        "    cost[(5, 6)] = 3\n",
        "    cost[(6, 4)] = 7\n",
        " \n",
        "    # goal state\n",
        "    goal = []\n",
        " \n",
        "    # set the goal\n",
        "    # there can be multiple goal states\n",
        "    goal.append(6)\n",
        " \n",
        "    # get the answer\n",
        "    answer = uniform_cost_search(goal, 0)\n",
        " \n",
        "    # print the answer\n",
        "    print(\"Minimum cost from 0 to 6 is = \",answer[0])"
      ],
      "metadata": {
        "id": "MhFxWfj8qi7P",
        "colab": {
          "base_uri": "https://localhost:8080/"
        },
        "outputId": "1ea4d713-c7c5-4384-8864-2a1a4f045cc6"
      },
      "execution_count": 4,
      "outputs": [
        {
          "output_type": "stream",
          "name": "stdout",
          "text": [
            "Minimum cost from 0 to 6 is =  3\n"
          ]
        }
      ]
    },
    {
      "cell_type": "code",
      "source": [],
      "metadata": {
        "id": "tFvWaTQG_hx-"
      },
      "execution_count": null,
      "outputs": []
    }
  ]
}